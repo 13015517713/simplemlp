{
 "cells": [
  {
   "cell_type": "markdown",
   "metadata": {},
   "source": [
    "# create mlp to do regression\n",
    "- data preparation\n",
    "- data processing\n",
    "- create model\n",
    "- train the model\n",
    "- visualize the result"
   ]
  },
  {
   "cell_type": "code",
   "execution_count": 1,
   "metadata": {},
   "outputs": [],
   "source": [
    "import torch\n",
    "import numpy as np\n",
    "import pandas as pd\n",
    "datafile = './data.txt'"
   ]
  },
  {
   "cell_type": "markdown",
   "metadata": {},
   "source": [
    "## 1.data preparation"
   ]
  },
  {
   "cell_type": "code",
   "execution_count": 2,
   "metadata": {},
   "outputs": [
    {
     "data": {
      "text/html": [
       "<div>\n",
       "<style scoped>\n",
       "    .dataframe tbody tr th:only-of-type {\n",
       "        vertical-align: middle;\n",
       "    }\n",
       "\n",
       "    .dataframe tbody tr th {\n",
       "        vertical-align: top;\n",
       "    }\n",
       "\n",
       "    .dataframe thead th {\n",
       "        text-align: right;\n",
       "    }\n",
       "</style>\n",
       "<table border=\"1\" class=\"dataframe\">\n",
       "  <thead>\n",
       "    <tr style=\"text-align: right;\">\n",
       "      <th></th>\n",
       "      <th>Tsys</th>\n",
       "      <th>OutW</th>\n",
       "      <th>OutK</th>\n",
       "      <th>In1</th>\n",
       "      <th>In2</th>\n",
       "      <th>In3</th>\n",
       "      <th>In4</th>\n",
       "      <th>In5</th>\n",
       "    </tr>\n",
       "  </thead>\n",
       "  <tbody>\n",
       "    <tr>\n",
       "      <th>0</th>\n",
       "      <td>14260.207347</td>\n",
       "      <td>-4.372067</td>\n",
       "      <td>1.684068</td>\n",
       "      <td>-90.0</td>\n",
       "      <td>5092.174480</td>\n",
       "      <td>7.568569</td>\n",
       "      <td>7.603383</td>\n",
       "      <td>2.766608e-05</td>\n",
       "    </tr>\n",
       "    <tr>\n",
       "      <th>1</th>\n",
       "      <td>17860.113750</td>\n",
       "      <td>-4.395031</td>\n",
       "      <td>1.684086</td>\n",
       "      <td>-90.0</td>\n",
       "      <td>5092.248508</td>\n",
       "      <td>7.733917</td>\n",
       "      <td>7.755043</td>\n",
       "      <td>3.147119e-06</td>\n",
       "    </tr>\n",
       "    <tr>\n",
       "      <th>2</th>\n",
       "      <td>21460.017344</td>\n",
       "      <td>-4.396948</td>\n",
       "      <td>1.684095</td>\n",
       "      <td>-90.0</td>\n",
       "      <td>5092.285155</td>\n",
       "      <td>7.800454</td>\n",
       "      <td>7.824474</td>\n",
       "      <td>5.493316e-14</td>\n",
       "    </tr>\n",
       "    <tr>\n",
       "      <th>3</th>\n",
       "      <td>25059.939097</td>\n",
       "      <td>-4.466899</td>\n",
       "      <td>1.684189</td>\n",
       "      <td>-90.0</td>\n",
       "      <td>5092.464156</td>\n",
       "      <td>8.715562</td>\n",
       "      <td>8.791684</td>\n",
       "      <td>2.609611e-04</td>\n",
       "    </tr>\n",
       "    <tr>\n",
       "      <th>4</th>\n",
       "      <td>28659.869252</td>\n",
       "      <td>-4.604535</td>\n",
       "      <td>1.684474</td>\n",
       "      <td>-90.0</td>\n",
       "      <td>5093.527380</td>\n",
       "      <td>11.173874</td>\n",
       "      <td>11.232197</td>\n",
       "      <td>2.440854e-04</td>\n",
       "    </tr>\n",
       "  </tbody>\n",
       "</table>\n",
       "</div>"
      ],
      "text/plain": [
       "           Tsys      OutW      OutK   In1          In2        In3        In4  \\\n",
       "0  14260.207347 -4.372067  1.684068 -90.0  5092.174480   7.568569   7.603383   \n",
       "1  17860.113750 -4.395031  1.684086 -90.0  5092.248508   7.733917   7.755043   \n",
       "2  21460.017344 -4.396948  1.684095 -90.0  5092.285155   7.800454   7.824474   \n",
       "3  25059.939097 -4.466899  1.684189 -90.0  5092.464156   8.715562   8.791684   \n",
       "4  28659.869252 -4.604535  1.684474 -90.0  5093.527380  11.173874  11.232197   \n",
       "\n",
       "            In5  \n",
       "0  2.766608e-05  \n",
       "1  3.147119e-06  \n",
       "2  5.493316e-14  \n",
       "3  2.609611e-04  \n",
       "4  2.440854e-04  "
      ]
     },
     "execution_count": 2,
     "metadata": {},
     "output_type": "execute_result"
    }
   ],
   "source": [
    "df = pd.read_csv(datafile, delim_whitespace=True)\n",
    "df.head()"
   ]
  },
  {
   "cell_type": "markdown",
   "metadata": {},
   "source": [
    "# 2.data processing"
   ]
  },
  {
   "cell_type": "code",
   "execution_count": 3,
   "metadata": {},
   "outputs": [],
   "source": [
    "# obj: ln1,ln2 -> outW\n",
    "x_columns = ['In1', 'In2']\n",
    "y_columns = ['OutW']\n",
    "df = df[x_columns+y_columns].astype('float32')"
   ]
  },
  {
   "cell_type": "code",
   "execution_count": 4,
   "metadata": {},
   "outputs": [],
   "source": [
    "# norm x columns, maybe we can norm y columns too\n",
    "for col in x_columns:\n",
    "    df[col] = (df[col]-df[col].mean())/df[col].std()"
   ]
  },
  {
   "cell_type": "code",
   "execution_count": 5,
   "metadata": {},
   "outputs": [
    {
     "data": {
      "text/html": [
       "<div>\n",
       "<style scoped>\n",
       "    .dataframe tbody tr th:only-of-type {\n",
       "        vertical-align: middle;\n",
       "    }\n",
       "\n",
       "    .dataframe tbody tr th {\n",
       "        vertical-align: top;\n",
       "    }\n",
       "\n",
       "    .dataframe thead th {\n",
       "        text-align: right;\n",
       "    }\n",
       "</style>\n",
       "<table border=\"1\" class=\"dataframe\">\n",
       "  <thead>\n",
       "    <tr style=\"text-align: right;\">\n",
       "      <th></th>\n",
       "      <th>In1</th>\n",
       "      <th>In2</th>\n",
       "      <th>OutW</th>\n",
       "    </tr>\n",
       "  </thead>\n",
       "  <tbody>\n",
       "    <tr>\n",
       "      <th>0</th>\n",
       "      <td>-1.711012</td>\n",
       "      <td>-1.654461</td>\n",
       "      <td>-4.372067</td>\n",
       "    </tr>\n",
       "    <tr>\n",
       "      <th>1</th>\n",
       "      <td>-1.711012</td>\n",
       "      <td>-1.640451</td>\n",
       "      <td>-4.395031</td>\n",
       "    </tr>\n",
       "    <tr>\n",
       "      <th>2</th>\n",
       "      <td>-1.711012</td>\n",
       "      <td>-1.633539</td>\n",
       "      <td>-4.396948</td>\n",
       "    </tr>\n",
       "    <tr>\n",
       "      <th>3</th>\n",
       "      <td>-1.711012</td>\n",
       "      <td>-1.599714</td>\n",
       "      <td>-4.466899</td>\n",
       "    </tr>\n",
       "    <tr>\n",
       "      <th>4</th>\n",
       "      <td>-1.711012</td>\n",
       "      <td>-1.399070</td>\n",
       "      <td>-4.604535</td>\n",
       "    </tr>\n",
       "  </tbody>\n",
       "</table>\n",
       "</div>"
      ],
      "text/plain": [
       "        In1       In2      OutW\n",
       "0 -1.711012 -1.654461 -4.372067\n",
       "1 -1.711012 -1.640451 -4.395031\n",
       "2 -1.711012 -1.633539 -4.396948\n",
       "3 -1.711012 -1.599714 -4.466899\n",
       "4 -1.711012 -1.399070 -4.604535"
      ]
     },
     "execution_count": 5,
     "metadata": {},
     "output_type": "execute_result"
    }
   ],
   "source": [
    "df[x_columns+y_columns].head()"
   ]
  },
  {
   "cell_type": "code",
   "execution_count": 6,
   "metadata": {},
   "outputs": [
    {
     "data": {
      "text/plain": [
       "In1     float32\n",
       "In2     float32\n",
       "OutW    float32\n",
       "dtype: object"
      ]
     },
     "execution_count": 6,
     "metadata": {},
     "output_type": "execute_result"
    }
   ],
   "source": [
    "df.dtypes"
   ]
  },
  {
   "cell_type": "markdown",
   "metadata": {},
   "source": [
    "# 3.create model"
   ]
  },
  {
   "cell_type": "code",
   "execution_count": 7,
   "metadata": {},
   "outputs": [],
   "source": [
    "import torch\n",
    "import torch.nn as nn\n",
    "import torch.nn.functional as F\n",
    "\n",
    "class Model(nn.Module):\n",
    "    def __init__(self, input_channel=2):\n",
    "        super().__init__()\n",
    "        self.fc_1 = nn.Linear(input_channel, 10, bias=True)\n",
    "        self.fc_2 = nn.Linear(10, 5, bias=True)\n",
    "        self.fc_3 = nn.Linear(5, 1, bias=True)\n",
    "    def forward(self, x):\n",
    "        x = F.relu(self.fc_1(x))\n",
    "        x = F.relu(self.fc_2(x))\n",
    "        x = self.fc_3(x)\n",
    "        return x"
   ]
  },
  {
   "cell_type": "code",
   "execution_count": 8,
   "metadata": {},
   "outputs": [],
   "source": [
    "model = Model(2)"
   ]
  },
  {
   "cell_type": "markdown",
   "metadata": {},
   "source": [
    "# 4.train the model"
   ]
  },
  {
   "cell_type": "code",
   "execution_count": 9,
   "metadata": {},
   "outputs": [
    {
     "data": {
      "text/html": [
       "<div>\n",
       "<style scoped>\n",
       "    .dataframe tbody tr th:only-of-type {\n",
       "        vertical-align: middle;\n",
       "    }\n",
       "\n",
       "    .dataframe tbody tr th {\n",
       "        vertical-align: top;\n",
       "    }\n",
       "\n",
       "    .dataframe thead th {\n",
       "        text-align: right;\n",
       "    }\n",
       "</style>\n",
       "<table border=\"1\" class=\"dataframe\">\n",
       "  <thead>\n",
       "    <tr style=\"text-align: right;\">\n",
       "      <th></th>\n",
       "      <th>index</th>\n",
       "      <th>In1</th>\n",
       "      <th>In2</th>\n",
       "      <th>OutW</th>\n",
       "    </tr>\n",
       "  </thead>\n",
       "  <tbody>\n",
       "    <tr>\n",
       "      <th>0</th>\n",
       "      <td>3822</td>\n",
       "      <td>1.617847</td>\n",
       "      <td>-0.072258</td>\n",
       "      <td>-4.989700</td>\n",
       "    </tr>\n",
       "    <tr>\n",
       "      <th>1</th>\n",
       "      <td>2535</td>\n",
       "      <td>0.476524</td>\n",
       "      <td>0.325805</td>\n",
       "      <td>-3.912555</td>\n",
       "    </tr>\n",
       "    <tr>\n",
       "      <th>2</th>\n",
       "      <td>2515</td>\n",
       "      <td>0.476524</td>\n",
       "      <td>-0.855848</td>\n",
       "      <td>-3.569416</td>\n",
       "    </tr>\n",
       "    <tr>\n",
       "      <th>3</th>\n",
       "      <td>3768</td>\n",
       "      <td>1.570292</td>\n",
       "      <td>-0.072258</td>\n",
       "      <td>-4.953027</td>\n",
       "    </tr>\n",
       "    <tr>\n",
       "      <th>4</th>\n",
       "      <td>713</td>\n",
       "      <td>-1.092795</td>\n",
       "      <td>-0.944603</td>\n",
       "      <td>-4.725879</td>\n",
       "    </tr>\n",
       "  </tbody>\n",
       "</table>\n",
       "</div>"
      ],
      "text/plain": [
       "   index       In1       In2      OutW\n",
       "0   3822  1.617847 -0.072258 -4.989700\n",
       "1   2535  0.476524  0.325805 -3.912555\n",
       "2   2515  0.476524 -0.855848 -3.569416\n",
       "3   3768  1.570292 -0.072258 -4.953027\n",
       "4    713 -1.092795 -0.944603 -4.725879"
      ]
     },
     "execution_count": 9,
     "metadata": {},
     "output_type": "execute_result"
    }
   ],
   "source": [
    "# spilt the data to train and test\n",
    "from sklearn.model_selection import train_test_split\n",
    "train, test = train_test_split(df, test_size=0.2, random_state=0)\n",
    "train = train.reset_index()\n",
    "test = test.reset_index()\n",
    "train.head()"
   ]
  },
  {
   "cell_type": "code",
   "execution_count": 10,
   "metadata": {},
   "outputs": [],
   "source": [
    "# train and test data to dataloader\n",
    "cnt = 0\n",
    "class Dataset(torch.utils.data.Dataset):\n",
    "    def __init__(self, dataframe):\n",
    "        self.dataframe = dataframe\n",
    "    def __len__(self):\n",
    "        return len(self.dataframe)\n",
    "    def __getitem__(self, index):\n",
    "        row = self.dataframe.iloc[index]\n",
    "        global cnt\n",
    "        x = torch.tensor(row[x_columns]).float()\n",
    "        y = torch.tensor(row[y_columns]).float()\n",
    "        if cnt==0:\n",
    "            print(row)\n",
    "            cnt += 1\n",
    "        return x, y\n",
    "trainset = Dataset(train)\n",
    "testset = Dataset(test)\n",
    "trainloader = torch.utils.data.DataLoader(trainset, batch_size=128, shuffle=True)\n",
    "testloader = torch.utils.data.DataLoader(testset, batch_size=128, shuffle=True)"
   ]
  },
  {
   "cell_type": "code",
   "execution_count": 17,
   "metadata": {},
   "outputs": [
    {
     "name": "stderr",
     "output_type": "stream",
     "text": [
      "trainloss: 0.0524, validloss: 0.0535: 100%|██████████| 20/20 [04:07<00:00, 12.39s/it]\n"
     ]
    }
   ],
   "source": [
    "import torch.nn as nn\n",
    "import tqdm\n",
    "epochs = 20\n",
    "optim = torch.optim.Adam(model.parameters(), lr=0.01)\n",
    "loss_func = nn.MSELoss()\n",
    "trainloss = []\n",
    "validloss = []\n",
    "def train_epoch(loader):\n",
    "    losses = []\n",
    "    for x, y in loader:\n",
    "        out = model(x)\n",
    "        loss = loss_func(out, y)\n",
    "        losses.append(loss)\n",
    "        optim.zero_grad()\n",
    "        loss.backward()\n",
    "        optim.step()\n",
    "    return sum(losses)/len(losses)\n",
    "\n",
    "@torch.no_grad()\n",
    "def test_epoch(loader):\n",
    "    losses = []\n",
    "    for x, y in loader:\n",
    "        out = model(x)\n",
    "        loss = loss_func(out, y)\n",
    "        losses.append(loss)\n",
    "    return sum(losses)/len(losses)\n",
    "\n",
    "train_loss_list = []\n",
    "valid_loss_list = []\n",
    "\n",
    "tbar = tqdm.trange(epochs)\n",
    "for epoch in tbar:\n",
    "    trainloss = train_epoch(trainloader)\n",
    "    validloss = test_epoch(testloader)\n",
    "    train_loss_list.append(trainloss)\n",
    "    valid_loss_list.append(validloss)\n",
    "    tbar.set_description(f'trainloss: {trainloss:.4f}, validloss: {validloss:.4f}')\n"
   ]
  },
  {
   "cell_type": "markdown",
   "metadata": {},
   "source": [
    "# 5.Visualize the result"
   ]
  },
  {
   "cell_type": "code",
   "execution_count": 23,
   "metadata": {},
   "outputs": [
    {
     "data": {
      "image/png": "[encoded data removed]",
      "text/plain": [
       "<Figure size 576x576 with 1 Axes>"
      ]
     },
     "metadata": {
      "needs_background": "light"
     },
     "output_type": "display_data"
    }
   ],
   "source": [
    "import matplotlib.pyplot as plt\n",
    "plt.figure(figsize=(8,8))\n",
    "plt.plot(train_loss_list, label='trainloss')\n",
    "plt.plot(valid_loss_list, label='validloss')\n",
    "plt.legend()\n",
    "plt.show()"
   ]
  }
 ],
 "metadata": {
  "kernelspec": {
   "display_name": "Python 3.6.13 ('densetNet-tf')",
   "language": "python",
   "name": "python3"
  },
  "language_info": {
   "codemirror_mode": {
    "name": "ipython",
    "version": 3
   },
   "file_extension": ".py",
   "mimetype": "text/x-python",
   "name": "python",
   "nbconvert_exporter": "python",
   "pygments_lexer": "ipython3",
   "version": "3.6.13"
  },
  "orig_nbformat": 4,
  "vscode": {
   "interpreter": {
    "hash": "8d1302e2fdea485935607c5f13fa487962ab06ec5f89579fd4de806130a379c5"
   }
  }
 },
 "nbformat": 4,
 "nbformat_minor": 2
}
